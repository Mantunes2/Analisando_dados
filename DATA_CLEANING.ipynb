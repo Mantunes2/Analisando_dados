{
  "cells": [
    {
      "cell_type": "markdown",
      "metadata": {
        "id": "view-in-github",
        "colab_type": "text"
      },
      "source": [
        "<a href=\"https://colab.research.google.com/github/Mantunes2/Analisando_dados/blob/main/DATA_CLEANING.ipynb\" target=\"_parent\"><img src=\"https://colab.research.google.com/assets/colab-badge.svg\" alt=\"Open In Colab\"/></a>"
      ]
    },
    {
      "cell_type": "markdown",
      "source": [
        "# Limpeza de dados sobre as internações de covid-19."
      ],
      "metadata": {
        "id": "wf24zgzD2234"
      }
    },
    {
      "cell_type": "markdown",
      "source": [
        "importando a biblioteca do pandas"
      ],
      "metadata": {
        "id": "uYW7ztbT3Mhm"
      }
    },
    {
      "cell_type": "code",
      "source": [
        "import pandas as pd"
      ],
      "metadata": {
        "id": "pVaJE0WppwOT"
      },
      "execution_count": 8,
      "outputs": []
    },
    {
      "cell_type": "markdown",
      "source": [
        "inserindo o diretório do arquivo e tratando os dados."
      ],
      "metadata": {
        "id": "QxucQ7IU3ta8"
      }
    },
    {
      "cell_type": "code",
      "source": [
        "uri = r'/content/esus-vepi.LeitoOcupacao_2022.csv'\n",
        "tabela = pd.read_csv(uri)\n",
        "tabela = tabela.drop(columns=['Unnamed: 0', '_id', 'origem', '_p_usuario', 'excluido', '_created_at'])\n",
        "tabela = tabela.rename(columns={'_updated_at': 'atualizado'})\n",
        "tabela.info()"
      ],
      "metadata": {
        "colab": {
          "base_uri": "https://localhost:8080/"
        },
        "id": "fX_cHxclpwRI",
        "outputId": "7de585b5-2fa6-48db-c61b-bb0f1fc20c7e"
      },
      "execution_count": 100,
      "outputs": [
        {
          "output_type": "stream",
          "name": "stdout",
          "text": [
            "<class 'pandas.core.frame.DataFrame'>\n",
            "RangeIndex: 128395 entries, 0 to 128394\n",
            "Data columns (total 20 columns):\n",
            " #   Column                 Non-Null Count   Dtype  \n",
            "---  ------                 --------------   -----  \n",
            " 0   dataNotificacao        128395 non-null  object \n",
            " 1   cnes                   128395 non-null  object \n",
            " 2   ocupacaoSuspeitoCli    1 non-null       float64\n",
            " 3   ocupacaoSuspeitoUti    1 non-null       float64\n",
            " 4   ocupacaoConfirmadoCli  1 non-null       float64\n",
            " 5   ocupacaoConfirmadoUti  1 non-null       float64\n",
            " 6   ocupacaoCovidUti       128395 non-null  float64\n",
            " 7   ocupacaoCovidCli       128395 non-null  float64\n",
            " 8   ocupacaoHospitalarUti  128395 non-null  float64\n",
            " 9   ocupacaoHospitalarCli  128395 non-null  float64\n",
            " 10  saidaSuspeitaObitos    128395 non-null  float64\n",
            " 11  saidaSuspeitaAltas     128395 non-null  float64\n",
            " 12  saidaConfirmadaObitos  128395 non-null  float64\n",
            " 13  saidaConfirmadaAltas   128395 non-null  float64\n",
            " 14  estadoNotificacao      128395 non-null  object \n",
            " 15  municipioNotificacao   128395 non-null  object \n",
            " 16  estado                 128395 non-null  object \n",
            " 17  municipio              128395 non-null  object \n",
            " 18  validado               128395 non-null  bool   \n",
            " 19  atualizado             128395 non-null  object \n",
            "dtypes: bool(1), float64(12), object(7)\n",
            "memory usage: 18.7+ MB\n"
          ]
        }
      ]
    },
    {
      "cell_type": "markdown",
      "source": [
        "removendo valores nulos e salvando os dados em outro arquivo."
      ],
      "metadata": {
        "id": "yoVLK1y131YV"
      }
    },
    {
      "cell_type": "code",
      "source": [
        "tabela_test = tabela.fillna(0)\n",
        "tabela_test.to_csv('novos_dados.csv')"
      ],
      "metadata": {
        "id": "UZ2l-42Rs27d"
      },
      "execution_count": 93,
      "outputs": []
    },
    {
      "cell_type": "markdown",
      "source": [
        "# Redes Sociais:\n",
        "- [Linkedin](https://www.linkedin.com/in/matheusantunesrodrigeus/)\n",
        "- [Twitter](https://twitter.com/otecnicoeminfo)\n",
        "- [Instagram](https://www.instagram.com/mantunes_2/)"
      ],
      "metadata": {
        "id": "DGe4KijH5RXK"
      }
    }
  ],
  "metadata": {
    "colab": {
      "name": "DATA_CLEANING.ipynb",
      "provenance": [],
      "authorship_tag": "ABX9TyOkuPNKd1qvRRWGuWgsrIxw",
      "include_colab_link": true
    },
    "kernelspec": {
      "display_name": "Python 3",
      "name": "python3"
    },
    "language_info": {
      "name": "python"
    }
  },
  "nbformat": 4,
  "nbformat_minor": 0
}